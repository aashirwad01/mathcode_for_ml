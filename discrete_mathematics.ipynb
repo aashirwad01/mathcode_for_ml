{
  "nbformat": 4,
  "nbformat_minor": 0,
  "metadata": {
    "colab": {
      "name": "discrete_mathematics.ipynb",
      "provenance": [],
      "collapsed_sections": [],
      "authorship_tag": "ABX9TyPnv1b6Nj9fHPJlLxHy4MOC",
      "include_colab_link": true
    },
    "kernelspec": {
      "name": "python3",
      "display_name": "Python 3"
    }
  },
  "cells": [
    {
      "cell_type": "markdown",
      "metadata": {
        "id": "view-in-github",
        "colab_type": "text"
      },
      "source": [
        "<a href=\"https://colab.research.google.com/github/aashirwad01/mathcode_for_ml/blob/master/discrete_mathematics.ipynb\" target=\"_parent\"><img src=\"https://colab.research.google.com/assets/colab-badge.svg\" alt=\"Open In Colab\"/></a>"
      ]
    },
    {
      "cell_type": "markdown",
      "metadata": {
        "id": "kGz4FcQZPlXW",
        "colab_type": "text"
      },
      "source": [
        "Tuples\n"
      ]
    },
    {
      "cell_type": "code",
      "metadata": {
        "id": "EztAgYuRL22c",
        "colab_type": "code",
        "outputId": "23821f68-629a-4860-b435-33711db6e850",
        "colab": {
          "base_uri": "https://localhost:8080/",
          "height": 173
        }
      },
      "source": [
        "from itertools import product\n",
        "for c in product(\"abc\", repeat=2):\n",
        "  print(\"\".join(c))\n",
        "  "
      ],
      "execution_count": 4,
      "outputs": [
        {
          "output_type": "stream",
          "text": [
            "aa\n",
            "ab\n",
            "ac\n",
            "ba\n",
            "bb\n",
            "bc\n",
            "ca\n",
            "cb\n",
            "cc\n"
          ],
          "name": "stdout"
        }
      ]
    },
    {
      "cell_type": "markdown",
      "metadata": {
        "id": "u6e2jMLAPsJE",
        "colab_type": "text"
      },
      "source": [
        "Permutations\n"
      ]
    },
    {
      "cell_type": "code",
      "metadata": {
        "id": "-u16hEkkOGQ4",
        "colab_type": "code",
        "outputId": "711f04db-adc8-40f3-da6e-95677a2d6a3a",
        "colab": {
          "base_uri": "https://localhost:8080/",
          "height": 121
        }
      },
      "source": [
        "from itertools import permutations\n",
        "for c in permutations(\"abc\", 2):\n",
        "  print(\"\".join(c))"
      ],
      "execution_count": 5,
      "outputs": [
        {
          "output_type": "stream",
          "text": [
            "ab\n",
            "ac\n",
            "ba\n",
            "bc\n",
            "ca\n",
            "cb\n"
          ],
          "name": "stdout"
        }
      ]
    },
    {
      "cell_type": "markdown",
      "metadata": {
        "id": "GGSk5G9_PvMM",
        "colab_type": "text"
      },
      "source": [
        "Combinations"
      ]
    },
    {
      "cell_type": "code",
      "metadata": {
        "id": "IitBd4rEOx5m",
        "colab_type": "code",
        "outputId": "c82cd0fa-1ed3-43a3-96a2-aa31f5053b22",
        "colab": {
          "base_uri": "https://localhost:8080/",
          "height": 121
        }
      },
      "source": [
        "from itertools import combinations_with_replacement\n",
        "for c in combinations_with_replacement(\"abc\", 2):\n",
        "  print(\"\".join(c))"
      ],
      "execution_count": 8,
      "outputs": [
        {
          "output_type": "stream",
          "text": [
            "aa\n",
            "ab\n",
            "ac\n",
            "bb\n",
            "bc\n",
            "cc\n"
          ],
          "name": "stdout"
        }
      ]
    },
    {
      "cell_type": "code",
      "metadata": {
        "id": "zmhpmr7-RipV",
        "colab_type": "code",
        "colab": {
          "base_uri": "https://localhost:8080/",
          "height": 1000
        },
        "outputId": "150cbf2f-43b8-493c-d151-d11a0cff7387"
      },
      "source": [
        "from itertools import combinations_with_replacement\n",
        "for c in combinations_with_replacement(\"TBL\", 15):\n",
        "    print(\"\".join(c))"
      ],
      "execution_count": 14,
      "outputs": [
        {
          "output_type": "stream",
          "text": [
            "TTTTTTTTTTTTTTT\n",
            "TTTTTTTTTTTTTTB\n",
            "TTTTTTTTTTTTTTL\n",
            "TTTTTTTTTTTTTBB\n",
            "TTTTTTTTTTTTTBL\n",
            "TTTTTTTTTTTTTLL\n",
            "TTTTTTTTTTTTBBB\n",
            "TTTTTTTTTTTTBBL\n",
            "TTTTTTTTTTTTBLL\n",
            "TTTTTTTTTTTTLLL\n",
            "TTTTTTTTTTTBBBB\n",
            "TTTTTTTTTTTBBBL\n",
            "TTTTTTTTTTTBBLL\n",
            "TTTTTTTTTTTBLLL\n",
            "TTTTTTTTTTTLLLL\n",
            "TTTTTTTTTTBBBBB\n",
            "TTTTTTTTTTBBBBL\n",
            "TTTTTTTTTTBBBLL\n",
            "TTTTTTTTTTBBLLL\n",
            "TTTTTTTTTTBLLLL\n",
            "TTTTTTTTTTLLLLL\n",
            "TTTTTTTTTBBBBBB\n",
            "TTTTTTTTTBBBBBL\n",
            "TTTTTTTTTBBBBLL\n",
            "TTTTTTTTTBBBLLL\n",
            "TTTTTTTTTBBLLLL\n",
            "TTTTTTTTTBLLLLL\n",
            "TTTTTTTTTLLLLLL\n",
            "TTTTTTTTBBBBBBB\n",
            "TTTTTTTTBBBBBBL\n",
            "TTTTTTTTBBBBBLL\n",
            "TTTTTTTTBBBBLLL\n",
            "TTTTTTTTBBBLLLL\n",
            "TTTTTTTTBBLLLLL\n",
            "TTTTTTTTBLLLLLL\n",
            "TTTTTTTTLLLLLLL\n",
            "TTTTTTTBBBBBBBB\n",
            "TTTTTTTBBBBBBBL\n",
            "TTTTTTTBBBBBBLL\n",
            "TTTTTTTBBBBBLLL\n",
            "TTTTTTTBBBBLLLL\n",
            "TTTTTTTBBBLLLLL\n",
            "TTTTTTTBBLLLLLL\n",
            "TTTTTTTBLLLLLLL\n",
            "TTTTTTTLLLLLLLL\n",
            "TTTTTTBBBBBBBBB\n",
            "TTTTTTBBBBBBBBL\n",
            "TTTTTTBBBBBBBLL\n",
            "TTTTTTBBBBBBLLL\n",
            "TTTTTTBBBBBLLLL\n",
            "TTTTTTBBBBLLLLL\n",
            "TTTTTTBBBLLLLLL\n",
            "TTTTTTBBLLLLLLL\n",
            "TTTTTTBLLLLLLLL\n",
            "TTTTTTLLLLLLLLL\n",
            "TTTTTBBBBBBBBBB\n",
            "TTTTTBBBBBBBBBL\n",
            "TTTTTBBBBBBBBLL\n",
            "TTTTTBBBBBBBLLL\n",
            "TTTTTBBBBBBLLLL\n",
            "TTTTTBBBBBLLLLL\n",
            "TTTTTBBBBLLLLLL\n",
            "TTTTTBBBLLLLLLL\n",
            "TTTTTBBLLLLLLLL\n",
            "TTTTTBLLLLLLLLL\n",
            "TTTTTLLLLLLLLLL\n",
            "TTTTBBBBBBBBBBB\n",
            "TTTTBBBBBBBBBBL\n",
            "TTTTBBBBBBBBBLL\n",
            "TTTTBBBBBBBBLLL\n",
            "TTTTBBBBBBBLLLL\n",
            "TTTTBBBBBBLLLLL\n",
            "TTTTBBBBBLLLLLL\n",
            "TTTTBBBBLLLLLLL\n",
            "TTTTBBBLLLLLLLL\n",
            "TTTTBBLLLLLLLLL\n",
            "TTTTBLLLLLLLLLL\n",
            "TTTTLLLLLLLLLLL\n",
            "TTTBBBBBBBBBBBB\n",
            "TTTBBBBBBBBBBBL\n",
            "TTTBBBBBBBBBBLL\n",
            "TTTBBBBBBBBBLLL\n",
            "TTTBBBBBBBBLLLL\n",
            "TTTBBBBBBBLLLLL\n",
            "TTTBBBBBBLLLLLL\n",
            "TTTBBBBBLLLLLLL\n",
            "TTTBBBBLLLLLLLL\n",
            "TTTBBBLLLLLLLLL\n",
            "TTTBBLLLLLLLLLL\n",
            "TTTBLLLLLLLLLLL\n",
            "TTTLLLLLLLLLLLL\n",
            "TTBBBBBBBBBBBBB\n",
            "TTBBBBBBBBBBBBL\n",
            "TTBBBBBBBBBBBLL\n",
            "TTBBBBBBBBBBLLL\n",
            "TTBBBBBBBBBLLLL\n",
            "TTBBBBBBBBLLLLL\n",
            "TTBBBBBBBLLLLLL\n",
            "TTBBBBBBLLLLLLL\n",
            "TTBBBBBLLLLLLLL\n",
            "TTBBBBLLLLLLLLL\n",
            "TTBBBLLLLLLLLLL\n",
            "TTBBLLLLLLLLLLL\n",
            "TTBLLLLLLLLLLLL\n",
            "TTLLLLLLLLLLLLL\n",
            "TBBBBBBBBBBBBBB\n",
            "TBBBBBBBBBBBBBL\n",
            "TBBBBBBBBBBBBLL\n",
            "TBBBBBBBBBBBLLL\n",
            "TBBBBBBBBBBLLLL\n",
            "TBBBBBBBBBLLLLL\n",
            "TBBBBBBBBLLLLLL\n",
            "TBBBBBBBLLLLLLL\n",
            "TBBBBBBLLLLLLLL\n",
            "TBBBBBLLLLLLLLL\n",
            "TBBBBLLLLLLLLLL\n",
            "TBBBLLLLLLLLLLL\n",
            "TBBLLLLLLLLLLLL\n",
            "TBLLLLLLLLLLLLL\n",
            "TLLLLLLLLLLLLLL\n",
            "BBBBBBBBBBBBBBB\n",
            "BBBBBBBBBBBBBBL\n",
            "BBBBBBBBBBBBBLL\n",
            "BBBBBBBBBBBBLLL\n",
            "BBBBBBBBBBBLLLL\n",
            "BBBBBBBBBBLLLLL\n",
            "BBBBBBBBBLLLLLL\n",
            "BBBBBBBBLLLLLLL\n",
            "BBBBBBBLLLLLLLL\n",
            "BBBBBBLLLLLLLLL\n",
            "BBBBBLLLLLLLLLL\n",
            "BBBBLLLLLLLLLLL\n",
            "BBBLLLLLLLLLLLL\n",
            "BBLLLLLLLLLLLLL\n",
            "BLLLLLLLLLLLLLL\n",
            "LLLLLLLLLLLLLLL\n"
          ],
          "name": "stdout"
        }
      ]
    },
    {
      "cell_type": "code",
      "metadata": {
        "id": "xw8YJmgNpJGQ",
        "colab_type": "code",
        "colab": {
          "base_uri": "https://localhost:8080/",
          "height": 34
        },
        "outputId": "a4bd0511-f369-4e4c-f563-0c75b6f61661"
      },
      "source": [
        "i=0\n",
        "from itertools import permutations\n",
        "for a in permutations(\"123456789\", 4):\n",
        "  i=i+1\n",
        "print(i)\n"
      ],
      "execution_count": 15,
      "outputs": [
        {
          "output_type": "stream",
          "text": [
            "3024\n"
          ],
          "name": "stdout"
        }
      ]
    }
  ]
}