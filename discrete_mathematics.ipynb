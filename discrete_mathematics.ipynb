{
  "nbformat": 4,
  "nbformat_minor": 0,
  "metadata": {
    "colab": {
      "name": "discrete_mathematics.ipynb",
      "provenance": [],
      "collapsed_sections": [],
      "authorship_tag": "ABX9TyO9tyrrFPxJcKXu2B/5wa4R",
      "include_colab_link": true
    },
    "kernelspec": {
      "name": "python3",
      "display_name": "Python 3"
    }
  },
  "cells": [
    {
      "cell_type": "markdown",
      "metadata": {
        "id": "view-in-github",
        "colab_type": "text"
      },
      "source": [
        "<a href=\"https://colab.research.google.com/github/aashirwad01/mathcode_for_ml/blob/master/discrete_mathematics.ipynb\" target=\"_parent\"><img src=\"https://colab.research.google.com/assets/colab-badge.svg\" alt=\"Open In Colab\"/></a>"
      ]
    },
    {
      "cell_type": "markdown",
      "metadata": {
        "id": "kGz4FcQZPlXW",
        "colab_type": "text"
      },
      "source": [
        "Tuples\n"
      ]
    },
    {
      "cell_type": "code",
      "metadata": {
        "id": "EztAgYuRL22c",
        "colab_type": "code",
        "outputId": "1748f829-a96b-4303-c5ef-25e92427fa04",
        "colab": {
          "base_uri": "https://localhost:8080/",
          "height": 173
        }
      },
      "source": [
        "from itertools import product\n",
        "for c in product(\"abc\", repeat=2):\n",
        "  print(\"\".join(c))\n",
        "  "
      ],
      "execution_count": 0,
      "outputs": [
        {
          "output_type": "stream",
          "text": [
            "aa\n",
            "ab\n",
            "ac\n",
            "ba\n",
            "bb\n",
            "bc\n",
            "ca\n",
            "cb\n",
            "cc\n"
          ],
          "name": "stdout"
        }
      ]
    },
    {
      "cell_type": "markdown",
      "metadata": {
        "id": "u6e2jMLAPsJE",
        "colab_type": "text"
      },
      "source": [
        "Permutations\n"
      ]
    },
    {
      "cell_type": "code",
      "metadata": {
        "id": "-u16hEkkOGQ4",
        "colab_type": "code",
        "outputId": "8cea98b4-8bfb-4d1b-f9c5-742a179c15ae",
        "colab": {
          "base_uri": "https://localhost:8080/",
          "height": 121
        }
      },
      "source": [
        "from itertools import permutations\n",
        "for c in permutations(\"abc\", 2):\n",
        "  print(\"\".join(c))"
      ],
      "execution_count": 0,
      "outputs": [
        {
          "output_type": "stream",
          "text": [
            "ab\n",
            "ac\n",
            "ba\n",
            "bc\n",
            "ca\n",
            "cb\n"
          ],
          "name": "stdout"
        }
      ]
    },
    {
      "cell_type": "markdown",
      "metadata": {
        "id": "GGSk5G9_PvMM",
        "colab_type": "text"
      },
      "source": [
        "Combinations"
      ]
    },
    {
      "cell_type": "code",
      "metadata": {
        "id": "IitBd4rEOx5m",
        "colab_type": "code",
        "outputId": "4c32335b-993e-4b5d-c457-15de58af4e7f",
        "colab": {
          "base_uri": "https://localhost:8080/",
          "height": 121
        }
      },
      "source": [
        "from itertools import combinations_with_replacement\n",
        "for c in combinations_with_replacement(\"abc\", 2):\n",
        "  print(\"\".join(c))"
      ],
      "execution_count": 0,
      "outputs": [
        {
          "output_type": "stream",
          "text": [
            "aa\n",
            "ab\n",
            "ac\n",
            "bb\n",
            "bc\n",
            "cc\n"
          ],
          "name": "stdout"
        }
      ]
    },
    {
      "cell_type": "code",
      "metadata": {
        "id": "zmhpmr7-RipV",
        "colab_type": "code",
        "outputId": "61c1da2c-3f08-4d7b-a388-d972669237f3",
        "colab": {
          "base_uri": "https://localhost:8080/",
          "height": 1000
        }
      },
      "source": [
        "from itertools import combinations_with_replacement\n",
        "for c in combinations_with_replacement(\"TBL\", 15):\n",
        "    print(\"\".join(c))"
      ],
      "execution_count": 0,
      "outputs": [
        {
          "output_type": "stream",
          "text": [
            "TTTTTTTTTTTTTTT\n",
            "TTTTTTTTTTTTTTB\n",
            "TTTTTTTTTTTTTTL\n",
            "TTTTTTTTTTTTTBB\n",
            "TTTTTTTTTTTTTBL\n",
            "TTTTTTTTTTTTTLL\n",
            "TTTTTTTTTTTTBBB\n",
            "TTTTTTTTTTTTBBL\n",
            "TTTTTTTTTTTTBLL\n",
            "TTTTTTTTTTTTLLL\n",
            "TTTTTTTTTTTBBBB\n",
            "TTTTTTTTTTTBBBL\n",
            "TTTTTTTTTTTBBLL\n",
            "TTTTTTTTTTTBLLL\n",
            "TTTTTTTTTTTLLLL\n",
            "TTTTTTTTTTBBBBB\n",
            "TTTTTTTTTTBBBBL\n",
            "TTTTTTTTTTBBBLL\n",
            "TTTTTTTTTTBBLLL\n",
            "TTTTTTTTTTBLLLL\n",
            "TTTTTTTTTTLLLLL\n",
            "TTTTTTTTTBBBBBB\n",
            "TTTTTTTTTBBBBBL\n",
            "TTTTTTTTTBBBBLL\n",
            "TTTTTTTTTBBBLLL\n",
            "TTTTTTTTTBBLLLL\n",
            "TTTTTTTTTBLLLLL\n",
            "TTTTTTTTTLLLLLL\n",
            "TTTTTTTTBBBBBBB\n",
            "TTTTTTTTBBBBBBL\n",
            "TTTTTTTTBBBBBLL\n",
            "TTTTTTTTBBBBLLL\n",
            "TTTTTTTTBBBLLLL\n",
            "TTTTTTTTBBLLLLL\n",
            "TTTTTTTTBLLLLLL\n",
            "TTTTTTTTLLLLLLL\n",
            "TTTTTTTBBBBBBBB\n",
            "TTTTTTTBBBBBBBL\n",
            "TTTTTTTBBBBBBLL\n",
            "TTTTTTTBBBBBLLL\n",
            "TTTTTTTBBBBLLLL\n",
            "TTTTTTTBBBLLLLL\n",
            "TTTTTTTBBLLLLLL\n",
            "TTTTTTTBLLLLLLL\n",
            "TTTTTTTLLLLLLLL\n",
            "TTTTTTBBBBBBBBB\n",
            "TTTTTTBBBBBBBBL\n",
            "TTTTTTBBBBBBBLL\n",
            "TTTTTTBBBBBBLLL\n",
            "TTTTTTBBBBBLLLL\n",
            "TTTTTTBBBBLLLLL\n",
            "TTTTTTBBBLLLLLL\n",
            "TTTTTTBBLLLLLLL\n",
            "TTTTTTBLLLLLLLL\n",
            "TTTTTTLLLLLLLLL\n",
            "TTTTTBBBBBBBBBB\n",
            "TTTTTBBBBBBBBBL\n",
            "TTTTTBBBBBBBBLL\n",
            "TTTTTBBBBBBBLLL\n",
            "TTTTTBBBBBBLLLL\n",
            "TTTTTBBBBBLLLLL\n",
            "TTTTTBBBBLLLLLL\n",
            "TTTTTBBBLLLLLLL\n",
            "TTTTTBBLLLLLLLL\n",
            "TTTTTBLLLLLLLLL\n",
            "TTTTTLLLLLLLLLL\n",
            "TTTTBBBBBBBBBBB\n",
            "TTTTBBBBBBBBBBL\n",
            "TTTTBBBBBBBBBLL\n",
            "TTTTBBBBBBBBLLL\n",
            "TTTTBBBBBBBLLLL\n",
            "TTTTBBBBBBLLLLL\n",
            "TTTTBBBBBLLLLLL\n",
            "TTTTBBBBLLLLLLL\n",
            "TTTTBBBLLLLLLLL\n",
            "TTTTBBLLLLLLLLL\n",
            "TTTTBLLLLLLLLLL\n",
            "TTTTLLLLLLLLLLL\n",
            "TTTBBBBBBBBBBBB\n",
            "TTTBBBBBBBBBBBL\n",
            "TTTBBBBBBBBBBLL\n",
            "TTTBBBBBBBBBLLL\n",
            "TTTBBBBBBBBLLLL\n",
            "TTTBBBBBBBLLLLL\n",
            "TTTBBBBBBLLLLLL\n",
            "TTTBBBBBLLLLLLL\n",
            "TTTBBBBLLLLLLLL\n",
            "TTTBBBLLLLLLLLL\n",
            "TTTBBLLLLLLLLLL\n",
            "TTTBLLLLLLLLLLL\n",
            "TTTLLLLLLLLLLLL\n",
            "TTBBBBBBBBBBBBB\n",
            "TTBBBBBBBBBBBBL\n",
            "TTBBBBBBBBBBBLL\n",
            "TTBBBBBBBBBBLLL\n",
            "TTBBBBBBBBBLLLL\n",
            "TTBBBBBBBBLLLLL\n",
            "TTBBBBBBBLLLLLL\n",
            "TTBBBBBBLLLLLLL\n",
            "TTBBBBBLLLLLLLL\n",
            "TTBBBBLLLLLLLLL\n",
            "TTBBBLLLLLLLLLL\n",
            "TTBBLLLLLLLLLLL\n",
            "TTBLLLLLLLLLLLL\n",
            "TTLLLLLLLLLLLLL\n",
            "TBBBBBBBBBBBBBB\n",
            "TBBBBBBBBBBBBBL\n",
            "TBBBBBBBBBBBBLL\n",
            "TBBBBBBBBBBBLLL\n",
            "TBBBBBBBBBBLLLL\n",
            "TBBBBBBBBBLLLLL\n",
            "TBBBBBBBBLLLLLL\n",
            "TBBBBBBBLLLLLLL\n",
            "TBBBBBBLLLLLLLL\n",
            "TBBBBBLLLLLLLLL\n",
            "TBBBBLLLLLLLLLL\n",
            "TBBBLLLLLLLLLLL\n",
            "TBBLLLLLLLLLLLL\n",
            "TBLLLLLLLLLLLLL\n",
            "TLLLLLLLLLLLLLL\n",
            "BBBBBBBBBBBBBBB\n",
            "BBBBBBBBBBBBBBL\n",
            "BBBBBBBBBBBBBLL\n",
            "BBBBBBBBBBBBLLL\n",
            "BBBBBBBBBBBLLLL\n",
            "BBBBBBBBBBLLLLL\n",
            "BBBBBBBBBLLLLLL\n",
            "BBBBBBBBLLLLLLL\n",
            "BBBBBBBLLLLLLLL\n",
            "BBBBBBLLLLLLLLL\n",
            "BBBBBLLLLLLLLLL\n",
            "BBBBLLLLLLLLLLL\n",
            "BBBLLLLLLLLLLLL\n",
            "BBLLLLLLLLLLLLL\n",
            "BLLLLLLLLLLLLLL\n",
            "LLLLLLLLLLLLLLL\n"
          ],
          "name": "stdout"
        }
      ]
    },
    {
      "cell_type": "code",
      "metadata": {
        "id": "xw8YJmgNpJGQ",
        "colab_type": "code",
        "outputId": "8b538f03-7f0e-432e-cf66-280d28253590",
        "colab": {
          "base_uri": "https://localhost:8080/",
          "height": 34
        }
      },
      "source": [
        "i=0\n",
        "from itertools import permutations\n",
        "for a in permutations(\"123456789\", 4):\n",
        "  i=i+1\n",
        "print(i)\n"
      ],
      "execution_count": 0,
      "outputs": [
        {
          "output_type": "stream",
          "text": [
            "3024\n"
          ],
          "name": "stdout"
        }
      ]
    },
    {
      "cell_type": "markdown",
      "metadata": {
        "id": "8r8t3TvGW1LR",
        "colab_type": "text"
      },
      "source": [
        "Ways to form four digit no with the digits in non-increasing order and 0123 is a four digit no here \n",
        "\n",
        "\n",
        "---\n",
        "\n",
        "\n",
        "Can be said as selecting 4 no in clockwise/anti clockwise direction with no from 0 to 10 on the clock.\n",
        "\n",
        "\n",
        "---\n",
        "Or selection of an unordered set of 4 nos from 0-9.\n"
      ]
    },
    {
      "cell_type": "code",
      "metadata": {
        "id": "DoDf2O07WTj9",
        "colab_type": "code",
        "colab": {}
      },
      "source": [
        "s=0\n",
        "for i in range(9,-1,-1):\n",
        "    for j in range(i,-1,-1):\n",
        "      for k in range(j,-1,-1):\n",
        "        for l in range(k,-1,-1):\n",
        "          s=s+1"
      ],
      "execution_count": 0,
      "outputs": []
    },
    {
      "cell_type": "code",
      "metadata": {
        "id": "a-1yy96bWW5i",
        "colab_type": "code",
        "outputId": "60d399f6-07b8-403c-e6e4-13ed467da151",
        "colab": {
          "base_uri": "https://localhost:8080/",
          "height": 34
        }
      },
      "source": [
        "i=0\n",
        "from itertools import combinations_with_replacement\n",
        "for a in combinations_with_replacement(\"0123456789\", 4):\n",
        "  i=i+1\n",
        "print(i)"
      ],
      "execution_count": 0,
      "outputs": [
        {
          "output_type": "stream",
          "text": [
            "715\n"
          ],
          "name": "stdout"
        }
      ]
    },
    {
      "cell_type": "code",
      "metadata": {
        "id": "dcQJk9SfKkxj",
        "colab_type": "code",
        "colab": {
          "base_uri": "https://localhost:8080/",
          "height": 319
        },
        "outputId": "78645584-f686-4047-a7c9-e5e9777343df"
      },
      "source": [
        "import networkx as nx\n",
        "import matplotlib.pyplot as plt\n",
        "G=nx.Graph()\n",
        "G.add_edges_from([('a','b'),('b','c'),('c','d'),('d','a'),('a','e'),('b','d'),('d','e')])\n",
        "labelmap = dict(zip(G.nodes(), [\"A\", \"B\", \"C\", \"D\",'E']))\n",
        "nx.draw(G, labels=labelmap, with_labels=True) \n",
        "plt.show()"
      ],
      "execution_count": 2,
      "outputs": [
        {
          "output_type": "display_data",
          "data": {
            "image/png": "[encoded data removed]",
            "text/plain": [
              "<Figure size 432x288 with 1 Axes>"
            ]
          },
          "metadata": {
            "tags": []
          }
        }
      ]
    }
  ]
}