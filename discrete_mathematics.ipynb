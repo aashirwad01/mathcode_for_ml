{
  "nbformat": 4,
  "nbformat_minor": 0,
  "metadata": {
    "colab": {
      "name": "Untitled2.ipynb",
      "provenance": [],
      "authorship_tag": "ABX9TyPxR1EWi1eNy/169s7avXQg",
      "include_colab_link": true
    },
    "kernelspec": {
      "name": "python3",
      "display_name": "Python 3"
    }
  },
  "cells": [
    {
      "cell_type": "markdown",
      "metadata": {
        "id": "view-in-github",
        "colab_type": "text"
      },
      "source": [
        "<a href=\"https://colab.research.google.com/github/aashirwad01/mathcode_for_ml/blob/master/discrete_mathematics.ipynb\" target=\"_parent\"><img src=\"https://colab.research.google.com/assets/colab-badge.svg\" alt=\"Open In Colab\"/></a>"
      ]
    },
    {
      "cell_type": "code",
      "metadata": {
        "id": "EztAgYuRL22c",
        "colab_type": "code",
        "outputId": "c582cb6f-2221-4bf9-b341-bfd6b0fc45f2",
        "colab": {
          "base_uri": "https://localhost:8080/",
          "height": 173
        }
      },
      "source": [
        "from itertools import product\n",
        "for c in product(\"abc\", repeat=2):\n",
        "  print(\"\".join(c))\n",
        "  "
      ],
      "execution_count": 0,
      "outputs": [
        {
          "output_type": "stream",
          "text": [
            "aa\n",
            "ab\n",
            "ac\n",
            "ba\n",
            "bb\n",
            "bc\n",
            "ca\n",
            "cb\n",
            "cc\n"
          ],
          "name": "stdout"
        }
      ]
    },
    {
      "cell_type": "code",
      "metadata": {
        "id": "-u16hEkkOGQ4",
        "colab_type": "code",
        "colab": {
          "base_uri": "https://localhost:8080/",
          "height": 121
        },
        "outputId": "fed7c2bf-0719-4a26-cb90-2397215580f8"
      },
      "source": [
        "from itertools import permutations\n",
        "for c in permutations(\"abc\", 2):\n",
        "  print(\"\".join(c))"
      ],
      "execution_count": 1,
      "outputs": [
        {
          "output_type": "stream",
          "text": [
            "ab\n",
            "ac\n",
            "ba\n",
            "bc\n",
            "ca\n",
            "cb\n"
          ],
          "name": "stdout"
        }
      ]
    }
  ]
}