{
  "nbformat": 4,
  "nbformat_minor": 0,
  "metadata": {
    "colab": {
      "name": "Untitled2.ipynb",
      "provenance": [],
      "authorship_tag": "ABX9TyP6Ur8BSdG0gtRnHcQWX7MN",
      "include_colab_link": true
    },
    "kernelspec": {
      "name": "python3",
      "display_name": "Python 3"
    }
  },
  "cells": [
    {
      "cell_type": "markdown",
      "metadata": {
        "id": "view-in-github",
        "colab_type": "text"
      },
      "source": [
        "<a href=\"https://colab.research.google.com/github/aashirwad01/mathcode_for_ml/blob/master/discrete_mathematics.ipynb\" target=\"_parent\"><img src=\"https://colab.research.google.com/assets/colab-badge.svg\" alt=\"Open In Colab\"/></a>"
      ]
    },
    {
      "cell_type": "markdown",
      "metadata": {
        "id": "kGz4FcQZPlXW",
        "colab_type": "text"
      },
      "source": [
        "Tuples\n"
      ]
    },
    {
      "cell_type": "code",
      "metadata": {
        "id": "EztAgYuRL22c",
        "colab_type": "code",
        "outputId": "23821f68-629a-4860-b435-33711db6e850",
        "colab": {
          "base_uri": "https://localhost:8080/",
          "height": 173
        }
      },
      "source": [
        "from itertools import product\n",
        "for c in product(\"abc\", repeat=2):\n",
        "  print(\"\".join(c))\n",
        "  "
      ],
      "execution_count": 4,
      "outputs": [
        {
          "output_type": "stream",
          "text": [
            "aa\n",
            "ab\n",
            "ac\n",
            "ba\n",
            "bb\n",
            "bc\n",
            "ca\n",
            "cb\n",
            "cc\n"
          ],
          "name": "stdout"
        }
      ]
    },
    {
      "cell_type": "markdown",
      "metadata": {
        "id": "u6e2jMLAPsJE",
        "colab_type": "text"
      },
      "source": [
        "Permutations\n"
      ]
    },
    {
      "cell_type": "code",
      "metadata": {
        "id": "-u16hEkkOGQ4",
        "colab_type": "code",
        "outputId": "711f04db-adc8-40f3-da6e-95677a2d6a3a",
        "colab": {
          "base_uri": "https://localhost:8080/",
          "height": 121
        }
      },
      "source": [
        "from itertools import permutations\n",
        "for c in permutations(\"abc\", 2):\n",
        "  print(\"\".join(c))"
      ],
      "execution_count": 5,
      "outputs": [
        {
          "output_type": "stream",
          "text": [
            "ab\n",
            "ac\n",
            "ba\n",
            "bc\n",
            "ca\n",
            "cb\n"
          ],
          "name": "stdout"
        }
      ]
    },
    {
      "cell_type": "markdown",
      "metadata": {
        "id": "GGSk5G9_PvMM",
        "colab_type": "text"
      },
      "source": [
        "Combinations"
      ]
    },
    {
      "cell_type": "code",
      "metadata": {
        "id": "IitBd4rEOx5m",
        "colab_type": "code",
        "colab": {
          "base_uri": "https://localhost:8080/",
          "height": 121
        },
        "outputId": "a6390490-2957-4380-aa4f-aa7506069aa7"
      },
      "source": [
        "from itertools import combinations_with_replacement\n",
        "for c in combinations_with_replacement(\"abc\", 2):\n",
        "  print(\"\".join(c))"
      ],
      "execution_count": 6,
      "outputs": [
        {
          "output_type": "stream",
          "text": [
            "aa\n",
            "ab\n",
            "ac\n",
            "bb\n",
            "bc\n",
            "cc\n"
          ],
          "name": "stdout"
        }
      ]
    }
  ]
}